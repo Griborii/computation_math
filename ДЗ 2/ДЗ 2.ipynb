{
  "cells": [
    {
      "cell_type": "markdown",
      "metadata": {
        "id": "BnUiJ42Zq1_g"
      },
      "source": [
        "# ***Задача 1d*** \n",
        "***Условие***\n",
        "Для уравнения переноса\n",
        "$\\frac{\\partial u}{\\partial t} + c \\frac{\\partial u}{\\partial x} = 0$\n",
        "методом неопределенных коэффициентов построить схему максимального порядка ап-\n",
        "проксмации (порядок указать) по значениями в узлах сетки:\n",
        "\n",
        "$a \\cdot \\varphi (t_{n + 1}$, $x_{k}) + b  \\cdot \\varphi (t_{n}$, $x_{k}) + d \\cdot \\varphi(t_{n}$, $x_{k - 1}) + e \\cdot \\varphi(t_{n + 1}$, $x_{k - 1}) = 0$.\n",
        "\n",
        "**1)** Разложим в Тейлора данное выражение по обоим переменным **(см hw2_maple1.mw формулу (1))**.\n",
        "\n",
        "Учитывая равенства $\\frac{\\partial^2 u}{\\partial t^2} =  -c \\frac{\\partial^2 u}{\\partial x \\partial t} = c^2 \\frac{\\partial^2 u}{\\partial x^2}$\n",
        "\n",
        "Составим и решим систему уравнений **(см hw2_maple1.mw формулу (2))**. Полученная схема: \n",
        "\n",
        "$$c \\cdot \\frac{\\varphi (t_{n + 1},\\ x_{k}) + \\varphi (t_{n},\\ x_{k}) - \\varphi(t_{n},\\ x_{k - 1}) - \\varphi(t_{n + 1},\\ x_{k - 1})}{2 \\cdot dx} + \\frac{\\varphi (t_{n + 1},\\ x_{k}) - \\varphi (t_{n},\\ x_{k}) - \\varphi(t_{n},\\ x_{k - 1}) + \\varphi(t_{n + 1},\\ x_{k - 1})}{2 \\cdot dt} = 0$$\n",
        "\n",
        "Порядок сходимости и по x, и по t - 2-ой, т.к остаток - $O(dx^2, dt^2)$\n",
        "\n",
        "**2)** Исследуем метод на устойчивость.\n",
        "\n",
        "Проверим устойчивость на решении $\\varphi_k^n = \\lambda^n e^{i\\alpha k}$.\n",
        "\n",
        "Подставим в уравнение и сократим на $\\lambda^n e^{i\\alpha (k - 1)}$.\n",
        "\n",
        "$$c \\cdot \\frac{\\lambda e^{ia} + e^{ia} - \\lambda - 1}{dt} + \\frac{\\lambda e^{ia} - e^{ia} - \\lambda + 1}{dx} = c \\cdot \\frac{(\\lambda + 1)(e^{ia} - 1)}{dt} + \\frac{(\\lambda - 1)(e^{ia} - 1)}{dx} = 0$$\n",
        "\n",
        "Отсюда $c (\\lambda + 1) dx + (\\lambda - 1)dt  = 0$\n",
        "\n",
        "То есть $$\\lambda = \\frac{dt - c\\cdot dx}{dt + c\\cdot dx} = \\frac{\\sigma - 1}{\\sigma + 1}$$\n",
        "\n",
        "где $\\sigma = \\frac{c\\cdot dt}{dx}$.\n",
        "\n",
        "Отсюда $$\\sigma > 0$$\n",
        "\n",
        "То есть схема устойчива для правого направления ветра (любой величины)."
      ]
    },
    {
      "cell_type": "markdown",
      "metadata": {},
      "source": [
        "# ***Задача 7.20*** \n",
        "\n",
        "![alt text](1.png).\n",
        "\n",
        "**1)** Данная схема совпала с полученной в 1d) задаче\n",
        "\n",
        "Уравнение: $$a \\frac{\\partial u}{\\partial x} + \\frac{\\partial u}{\\partial t} = f(x, t)$$\n",
        "\n",
        "Сходимость и устойчивость будет аналогичная 1d).\n"
      ]
    },
    {
      "cell_type": "markdown",
      "metadata": {},
      "source": [
        "# ***Задача 7.28 г)*** \n",
        "Исследовать сходимость разностной схемы к решению соответствующей дифференциальной задачи:\n",
        "\n",
        "![alt text](3.png).\n",
        "\n",
        "**1)** Разложение Тейлора говорит, что порядок сходимости только 1-ый (и по x, и по t). **(см hw2_maple1.mw формулу (4))**.\n",
        "\n",
        "2) Исследуем на устойчивость. \n",
        "\n",
        "$$\\frac{1 - e^{-ia}}{\\tau} = a\\frac{\\lambda - 1}{h}$$\n",
        "\n",
        "$$\\sigma = a\\frac{dt}{dx}$$\n",
        "\n",
        "$$|\\lambda|^2 = |h\\frac{1 - e^{-ia}}{a \\tau} + 1|^2 = (1 + \\sigma^{-1}(1 - \\cos{a}))^2 + (\\sigma^{-1} \\sin{a})^2 = 1 + (1 + \\cos^2{a} + \\sin^2{a})\\sigma^{-2} - 2 \\sigma^{-1}\\cos{a} + 2\\sigma^{-1} - 2 \\cos{a} \\le 1$$\n",
        "\n",
        "То есть $$\\sigma^{-2} - \\sigma^{-1}\\cos{a} + \\sigma^{-1} - \\cos{a}\\le 0$$\n",
        "\n",
        "$$\\sigma^{-1} \\in [-1,\\ cos{a}]$$\n",
        "Это должно быть выполнено для любого a, следовательно\n",
        " $$\\sigma = -1$$\n"
      ]
    },
    {
      "cell_type": "markdown",
      "metadata": {},
      "source": [
        "# ***Задача 10.3 в)*** \n",
        "\n",
        "Численно найти решение задачи теплопроводности с источником\n",
        "на конечном отрезке методом трапеций (Кранка–Николсон).\n",
        "![alt text](2.png).\n",
        "\n",
        "**1) Решим задачу аналитически**. Ищем решение в виде $f(t) \\sin (\\pi x)$. Пожставим в уравнение, получим:\n",
        "\n",
        "\\begin{cases}\n",
        "    f'(t) = -\\pi^2 f(t) + \\pi^2 \\\\\n",
        "    f(0) = 0\n",
        "\\end{cases}\n",
        "\n",
        "Отсюда решение $$f(x, t) = (1 - e^{-\\pi^2 t})\\sin (\\pi x)$$\n",
        "\n",
        "**2) Найдем численное решение задачи**.\n",
        "\n",
        "Метод Кранка-Ноколсон:\n",
        "\n",
        "$$\\frac{\\bar u_{n + 1} - \\bar u_{n}}{\\tau} + A\\frac{\\bar u_{j+1} + \\bar u_{j}}{2} = \\bar f(t_{j + \\frac{1}{2}})$$\n",
        "\n",
        "Где \n",
        "\n",
        "$$A = \\begin{pmatrix}\n",
        "  (2\\lambda + 1) & -\\lambda & 0 & \\cdots & 0 \\\\\n",
        "  -\\lambda & (2\\lambda + 1) & -\\lambda & \\cdots & 0 \\\\\n",
        "  0 & -\\lambda & (2\\lambda + 1) & \\ddots & 0 \\\\\n",
        "  \\vdots & \\vdots & \\ddots & \\ddots & -\\lambda \\\\\n",
        "  0 & 0 & 0 & -\\lambda & (2\\lambda + 1)\n",
        "\\end{pmatrix}$$\n",
        "\n",
        "$\\lambda = \\frac{h_t}{2 h_x^2}$\n",
        "\n",
        "Можно выразить $\\bar u_{n + 1}$ явно.\n",
        "\n",
        "$$\\bar u_{j + 1} = (\\frac{A}{2} + \\frac{E}{\\tau})^{-1}(\\bar f - \\frac{A \\bar u_j}{\\tau} + \\frac{\\bar u_j}{t})$$\n",
        "\n",
        "Что я и реализую в коде (обратная матрица - матрица B)"
      ]
    },
    {
      "cell_type": "code",
      "execution_count": null,
      "metadata": {},
      "outputs": [],
      "source": [
        "import math\n",
        "import numpy as np\n",
        "import matplotlib.pyplot as plt\n",
        "import matplotlib.animation as animation\n",
        "import time\n",
        "from IPython.display import HTML"
      ]
    },
    {
      "cell_type": "code",
      "execution_count": 1,
      "metadata": {},
      "outputs": [
        {
          "ename": "NameError",
          "evalue": "name 'np' is not defined",
          "output_type": "error",
          "traceback": [
            "\u001b[0;31m---------------------------------------------------------------------------\u001b[0m",
            "\u001b[0;31mNameError\u001b[0m                                 Traceback (most recent call last)",
            "Cell \u001b[0;32mIn[1], line 35\u001b[0m\n\u001b[1;32m     33\u001b[0m n_x \u001b[38;5;241m=\u001b[39m \u001b[38;5;28mint\u001b[39m(T_x \u001b[38;5;241m/\u001b[39m h_x)\n\u001b[1;32m     34\u001b[0m lmbd \u001b[38;5;241m=\u001b[39m h_t \u001b[38;5;241m/\u001b[39m (\u001b[38;5;241m2\u001b[39m \u001b[38;5;241m*\u001b[39m h_x\u001b[38;5;241m*\u001b[39m\u001b[38;5;241m*\u001b[39m\u001b[38;5;241m2\u001b[39m)\n\u001b[0;32m---> 35\u001b[0m u_0 \u001b[38;5;241m=\u001b[39m \u001b[43mnp\u001b[49m\u001b[38;5;241m.\u001b[39mzeros(n_x)\n\u001b[1;32m     37\u001b[0m U \u001b[38;5;241m=\u001b[39m Krank_nik(u_0, func1, h_t, h_x)\n\u001b[1;32m     39\u001b[0m plt\u001b[38;5;241m.\u001b[39mimshow(U, extent\u001b[38;5;241m=\u001b[39m[\u001b[38;5;241m0\u001b[39m, \u001b[38;5;241m1\u001b[39m, \u001b[38;5;241m0\u001b[39m, \u001b[38;5;241m1\u001b[39m], origin\u001b[38;5;241m=\u001b[39m\u001b[38;5;124m'\u001b[39m\u001b[38;5;124mlower\u001b[39m\u001b[38;5;124m'\u001b[39m, cmap\u001b[38;5;241m=\u001b[39m\u001b[38;5;124m'\u001b[39m\u001b[38;5;124mviridis\u001b[39m\u001b[38;5;124m'\u001b[39m)\n",
            "\u001b[0;31mNameError\u001b[0m: name 'np' is not defined"
          ]
        }
      ],
      "source": [
        "def func1(x):\n",
        "    return math.pi**2 * math.sin(math.pi * x)\n",
        "\n",
        "def prec_ans(x, t):\n",
        "    return (1 - math.exp((-math.pi**2 * t))) * math.sin(math.pi * x)\n",
        "\n",
        "def Krank_nik(u_0, func, h_t, h_x):\n",
        "    n_t = int(T_t / h_t)\n",
        "    n_x = int(T_x / h_x)\n",
        "    f = [func(i / n_x) for i in range(n_x)]\n",
        "    A = np.zeros((n_x, n_x))\n",
        "\n",
        "    for i in range(n_x):\n",
        "        A[i][i] = 1 + 2 * lmbd\n",
        "\n",
        "    for i in range(n_x - 1):\n",
        "        A[i + 1][i] = -lmbd\n",
        "        A[i][i + 1] = -lmbd\n",
        "\n",
        "    B = np.linalg.inv(A/2 + np.eye(n_x)/h_t)\n",
        "    U = [u_0]\n",
        "\n",
        "    for i in range(1, n_t):\n",
        "        u = B @ (f - A @ U[i - 1] / 2 + U[i - 1] / h_t)\n",
        "        U.append(u)\n",
        "    return U\n",
        "\n",
        "T_t = 1\n",
        "T_x = 1\n",
        "h_t = 0.01\n",
        "h_x = 0.01\n",
        "n_t = int(T_t / h_t)\n",
        "n_x = int(T_x / h_x)\n",
        "lmbd = h_t / (2 * h_x**2)\n",
        "u_0 = np.zeros(n_x)\n",
        "\n",
        "U = Krank_nik(u_0, func1, h_t, h_x)\n",
        "\n",
        "plt.imshow(U, extent=[0, 1, 0, 1], origin='lower', cmap='viridis')\n",
        "plt.colorbar(label='Значение функции')  # Добавляем цветовую шкалу\n",
        "plt.xlabel('x')\n",
        "plt.ylabel('t')\n",
        "plt.title('u(x, t)')\n",
        "plt.show()\n",
        "\n",
        "U_real = []\n",
        "\n",
        "for i in range(n_t):\n",
        "    t = i * h_t\n",
        "    U_real.append([])\n",
        "    for j in range(n_x):\n",
        "        x = j * h_x\n",
        "        U_real[i].append(prec_ans(x, t))\n",
        "\n",
        "plt.imshow(U_real, extent=[0, 1, 0, 1], origin='lower', cmap='viridis')\n",
        "plt.colorbar(label='Значение функции')  # Добавляем цветовую шкалу\n",
        "plt.xlabel('x')\n",
        "plt.ylabel('t')\n",
        "plt.title('Аналитическое решение')\n",
        "plt.show()\n"
      ]
    },
    {
      "cell_type": "markdown",
      "metadata": {},
      "source": [
        "Пока реазультаты расходятся."
      ]
    }
  ],
  "metadata": {
    "colab": {
      "provenance": []
    },
    "kernelspec": {
      "display_name": "Python 3",
      "name": "python3"
    },
    "language_info": {
      "codemirror_mode": {
        "name": "ipython",
        "version": 3
      },
      "file_extension": ".py",
      "mimetype": "text/x-python",
      "name": "python",
      "nbconvert_exporter": "python",
      "pygments_lexer": "ipython3",
      "version": "3.10.12"
    }
  },
  "nbformat": 4,
  "nbformat_minor": 0
}
