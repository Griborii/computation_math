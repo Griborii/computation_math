{
  "cells": [
    {
      "cell_type": "markdown",
      "metadata": {
        "id": "BnUiJ42Zq1_g"
      },
      "source": [
        "# ***Задача 1d*** \n",
        "***Условие***\n",
        "Для уравнения переноса\n",
        "$\\frac{\\partial u}{\\partial t} + c \\frac{\\partial u}{\\partial x} = 0$\n",
        "методом неопределенных коэффициентов построить схему максимального порядка ап-\n",
        "проксмации (порядок указать) по значениями в узлах сетки:\n",
        "\n",
        "$a \\cdot \\varphi (t_{n + 1}$, $x_{k}) + b  \\cdot \\varphi (t_{n}$, $x_{k}) + d \\cdot \\varphi(t_{n}$, $x_{k - 1}) + e \\cdot \\varphi(t_{n + 1}$, $x_{k - 1}) = 0$.\n",
        "\n",
        "**1)** Разложим в Тейлора данное выражение по обоим переменным **(см hw2_maple1.mw формулу (1))**.\n",
        "\n",
        "Учитывая равенства $\\frac{\\partial^2 u}{\\partial t^2} =  -c \\frac{\\partial^2 u}{\\partial x \\partial t} = c^2 \\frac{\\partial^2 u}{\\partial x^2}$\n",
        "\n",
        "Составим и решим систему уравнений **(см hw2_maple1.mw формулу (2))**. Полученная схема: \n",
        "\n",
        "$$c \\cdot \\frac{\\varphi (t_{n + 1},\\ x_{k}) + \\varphi (t_{n},\\ x_{k}) - \\varphi(t_{n},\\ x_{k - 1}) - \\varphi(t_{n + 1},\\ x_{k - 1})}{2 \\cdot dx} + \\frac{\\varphi (t_{n + 1},\\ x_{k}) - \\varphi (t_{n},\\ x_{k}) - \\varphi(t_{n},\\ x_{k - 1}) + \\varphi(t_{n + 1},\\ x_{k - 1})}{2 \\cdot dt} = 0$$\n",
        "\n",
        "**2)** Исследуем метод на устойчивость.\n",
        "\n",
        "Проверим устойчивость на решении $\\varphi_k^n = \\lambda^n e^{i\\alpha k}$.\n",
        "\n",
        "Подставим в уравнение и сократим на $\\lambda^n e^{i\\alpha (k - 1)}$.\n",
        "\n",
        "$$c \\cdot \\frac{\\lambda e^{ia} + e^{ia} - \\lambda - 1}{dt} + \\frac{\\lambda e^{ia} - e^{ia} - \\lambda + 1}{dx} = c \\cdot \\frac{(\\lambda + 1)(e^{ia} - 1)}{dt} + \\frac{(\\lambda - 1)(e^{ia} - 1)}{dx} = 0$$\n",
        "\n",
        "Отсюда $c (\\lambda + 1) dx + (\\lambda - 1)dt  = 0$\n",
        "\n",
        "То есть $$\\lambda = \\frac{dt - c\\cdot dx}{dt + c\\cdot dx} = \\frac{\\sigma - 1}{\\sigma + 1}$$\n",
        "\n",
        "где $\\sigma = \\frac{c\\cdot dt}{dx}$.\n",
        "\n",
        "Отсюда $$\\sigma > 0$$\n",
        "\n",
        "То есть схема устойчива для правого направления ветра (любой величины)."
      ]
    },
    {
      "cell_type": "markdown",
      "metadata": {},
      "source": [
        "# ***Задача 7.20*** \n",
        "\n",
        "![alt text](1.png).\n",
        "\n",
        "**1)** Разложим в Тейлора в точке $x_{k+\\frac{1}{2}}^{n+\\frac{1}{2}}$. **(см hw2_maple1.mw формулу (3))**.\n",
        "\n",
        "Я разложил левую часть, получилось аппроксимированное уравнение. Можно взять любое количество в уравнение, остальное записать ошибка аппроксимации. Например можно взять уравнение $$a \\frac{\\partial u}{\\partial x} + \\frac{1}{2} \\frac{\\partial^2 u}{\\partial x \\partial t} = f(x, t)$$\n",
        "\n",
        "В таком случае порядок аппроксимации - 3-ий (то есть в аппроксимации встречаются дифференциалы 3-его порядка, не меньше).\n",
        "\n",
        "**2)** Исследуем на услойивость. Подставим $\\varphi_k^n = \\lambda^n e^{i\\alpha k}$ в схему (аналогично прошлому пункту я сразу сократил $\\lambda^n e^{i\\alpha k}$)\n",
        "\n",
        "$$\\cdot \\frac{(e^{ia} + 1)(\\lambda - 1)}{dt} + a \\cdot \\frac{(\\lambda + 1)(e^{ia} - 1)}{dx} = 0$$\n",
        "\n",
        "$$\\lambda = \\frac{e^{ia} + 1 + \\sigma(e^{ia} - 1)}{e^{ia} + 1 - \\sigma(e^{ia} - 1)}$$\n",
        "\n",
        "$|\\lambda \\le 1|$ эквивалентно условию $$\\frac{2 + 2\\sigma^2 + 2(1 - \\sigma)(1 + \\sigma)\\cos a}{2 + 2\\sigma^2 - 2(1 - \\sigma)(1 + \\sigma)\\cos a} \\le 1$$\n",
        "\n",
        "Так как модуль отношения равен отношению модулей, $$|e^{ia}(\\sigma \\pm 1) + (1 \\mp \\sigma)|^2 = ((1 \\mp \\sigma) + (1 \\pm \\sigma)\\cos{a})^2 + ((\n",
        "    1 \\pm \\sigma) \\sin a)^2 = (1 \\pm \\sigma) ^ 2 + (\\cos^2 a + \\sin^2 a)(1 \\mp \\sigma)^2 + 2(1 \\pm \\sigma)(1 \\mp \\sigma) \\cos a$$\n",
        "\n",
        "Или же эквивалентно $2(1 - \\sigma)(1 + \\sigma)\\cos a \\le 0$. \n",
        "\n",
        "**То есть в зависимости от знака $\\cos a$ (в случае + и -): $\\sigma \\in R \\setminus [-1, 1]$ или $\\sigma \\in [-1, 1]$**."
      ]
    },
    {
      "cell_type": "code",
      "execution_count": null,
      "metadata": {
        "vscode": {
          "languageId": "plaintext"
        }
      },
      "outputs": [],
      "source": []
    },
    {
      "cell_type": "code",
      "execution_count": null,
      "metadata": {
        "vscode": {
          "languageId": "plaintext"
        }
      },
      "outputs": [],
      "source": []
    }
  ],
  "metadata": {
    "colab": {
      "provenance": []
    },
    "kernelspec": {
      "display_name": "Python 3",
      "name": "python3"
    },
    "language_info": {
      "codemirror_mode": {
        "name": "ipython",
        "version": 3
      },
      "file_extension": ".py",
      "mimetype": "text/x-python",
      "name": "python",
      "nbconvert_exporter": "python",
      "pygments_lexer": "ipython3",
      "version": "3.10.12"
    }
  },
  "nbformat": 4,
  "nbformat_minor": 0
}
