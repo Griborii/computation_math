{
  "cells": [
    {
      "cell_type": "markdown",
      "metadata": {
        "id": "BnUiJ42Zq1_g"
      },
      "source": [
        "# ***Задача 1*** \n",
        "***Условие***\n",
        "\n",
        "Рассматривается система ОДУ первого порядка, имеющая периодическое\n",
        "решение с периодом 𝑇 :\n",
        "\n",
        "\\begin{cases}\n",
        "    \\alpha'(t) = \\theta(t) \\\\\n",
        "    \\theta'(t) = -\\sin\\alpha(t) \\\\\n",
        "    \\alpha(0) = \\frac{\\pi}{2}, \\theta(0) = 0\n",
        "\\end{cases}\n",
        "\n",
        "где 𝑇 = 4𝐾(𝜋/4), 𝐾(𝜋/4) ≈ 1.854074677301372, 𝐾(𝑚) – эллиптический интеграл первого\n",
        "рода.\n",
        "\n",
        "***Решение***\n",
        "\n",
        "# ***1)*** Реализуем метод Рунге Кутты с данной таблицей Бутчера:\n",
        "\n",
        "\n",
        "\\begin{array}{c|cccc}\n",
        "0 & & & & \\\\\n",
        "\\frac{1}{2} & \\frac{1}{2} & & & \\\\\n",
        "\\frac{1}{2} & 0 & \\frac{1}{2} & & \\\\\n",
        "1 & 0 & 0 & 1 & \\\\ \\hline\n",
        " & \\frac{1}{6} & \\frac{1}{3} & \\frac{1}{3} & \\frac{1}{6} \\\\\n",
        "\\end{array}\n",
        "\n",
        "В коде реализована функция explicit_runge_kutt(a, b, c, n, start, finish, start_val, func)\n",
        "\n",
        "a, b, c - таблица Бутчера. n - количество шагов, start и finish - начальные данные t, start_val - начальные данные, func - функция f(u, t)\n",
        "(я взял в качестве агремента функции n, а не h, т.к если задавать h может выйти нецелое количество шагов)\n",
        "\n",
        "В нашем случае функция func не зависит от агрумента t, явно.\n",
        "\n",
        "\n",
        "\n"
      ]
    },
    {
      "cell_type": "code",
      "execution_count": 2,
      "metadata": {
        "colab": {
          "base_uri": "https://localhost:8080/"
        },
        "id": "7YoGSCyJjk_f",
        "outputId": "da5956af-b19e-4043-ddbf-b990037ac946"
      },
      "outputs": [
        {
          "name": "stdout",
          "output_type": "stream",
          "text": [
            "[1.57079633e+00 8.71630745e-11]\n"
          ]
        }
      ],
      "source": [
        "import math\n",
        "import numpy as np\n",
        "import matplotlib.pyplot as plt\n",
        "\n",
        "# Вспомогательная функция\n",
        "def scal_prod(x, y):\n",
        "    if len(x) != len(y):\n",
        "        raise\n",
        "    return sum([x[i]*y[i] for i in range(len(x))])\n",
        "\n",
        "\n",
        "def explicit_runge_kutt(a, b, c, n, start, finish, start_val, func):\n",
        "    h = (finish - start) / n\n",
        "    val = np.copy(start_val)\n",
        "    t = start\n",
        "    for i in range(n):\n",
        "        val_mid = [val] # промежуточные значения функции\n",
        "        t_mid = [t] # промежуточные значения времени\n",
        "        for j in range(1, len(b)):\n",
        "            t_mid.append(t + c[j] * h)\n",
        "            val_mid.append(val + h * sum([a[j][k] * func(val_mid[k], t_mid) for k in range(j)]))\n",
        "        t += h\n",
        "        dif = [func(val_mid[k], t_mid[k]) for k in range(len(b))]\n",
        "        val += h * scal_prod(b, dif)\n",
        "    return val\n",
        "\n",
        "def func1(x, t):\n",
        "    return np.array([x[1], -math.sin(x[0])])\n",
        "\n",
        "a = [\n",
        "     [0, 0, 0, 0],\n",
        "     [0.5, 0, 0, 0],\n",
        "     [0, 0.5, 0, 0],\n",
        "     [0, 0, 1, 0]\n",
        " ]\n",
        "b = [1/6, 1/3, 1/3, 1/6]\n",
        "c = [0, 0.5, 0.5, 1]\n",
        "\n",
        "T = 1.854074677301372 * 4\n",
        "start_val = np.array([math.pi / 2, 0])\n",
        "steps = 1000\n",
        "\n",
        "print(explicit_runge_kutt(a, b, c, steps, 0, T, start_val, func1))"
      ]
    },
    {
      "cell_type": "markdown",
      "metadata": {},
      "source": [
        "# ***2)*** Исследуем на устойчивость теоретически\n",
        "\n",
        "Все картинки генерятся в \"Дз 1, задача 1 - устойчивость\".mw.\n",
        "Найдем положение равновесие системы. Решая систему\n",
        "\\begin{cases}\n",
        "    \\theta(t) = 0 \\\\\n",
        "    -\\sin\\alpha(t) = 0\\\\\n",
        "\\end{cases}\n",
        "\n",
        "Получаем решение $ \\theta(t) \\equiv 0$, $ \\alpha(t) \\equiv \\pi n$, n = целое.\n",
        "\n",
        "Якобиан правой части по $\\theta$, $\\alpha$ стационарной точке: $$J = \\left( \\begin{matrix} 0 & 1 \\\\ -cos(\\alpha(t)) & 0 \\end{matrix} \\right) = \\left( \\begin{matrix} 0 & 1 \\\\ \\pm 1 & 0 \\end{matrix} \\right)$$\n",
        "\n",
        "$\\lambda^2 \\pm 1 = 0$. Отсюда собственные значения: $\\lambda = \\pm i$ или $\\lambda = \\pm 1$ в зависимости от выбранной стацианарной точки. Т.к маятник колебается вокруг услойчивого пололожения равновесия возьмем $\\lambda = \\pm i$. \n",
        "\n",
        "Построим область устойчивости для МРК \n",
        "\n",
        "![alt text](plot1.png).\n",
        "\n",
        "Область устойчивости внутри полученной области (значение в случайной внутренней точки < 1). \n",
        "\n",
        "Построим график $R(z)$ от h в случае $\\lambda = \\pm i$.\n",
        "\n",
        "![alt text](plot2.png).\n",
        "\n",
        "Из графика следует, что R(z) максимально близко к 1 при шагах близких к 0 (наиболее точно отражает реальную траекторию маятника).П ри 2.5 происходит наискорейшая сходимость (не отражающая реальную траекторию маятника), при 3-4 происходит взрыв. Это соответсвует реальности, как проверено в пункте 4.\n",
        "\n",
        "\n",
        "# ***3)*** Исследуем метод на порядок аппроксимации и сходимости.\n",
        "\n",
        "Для начала проверим условии Кутты разных порядков: \n",
        "\n",
        "Код реализует функцию order, принимающую на вход таблицу Бутчера, проверяет необходимые условия до 4ого порядка.\n",
        "\n",
        "Для данной задачи код указывает 4-ый порядок аппроксимации.\n"
      ]
    },
    {
      "cell_type": "code",
      "execution_count": 9,
      "metadata": {},
      "outputs": [
        {
          "name": "stdout",
          "output_type": "stream",
          "text": [
            "min 4 order\n"
          ]
        }
      ],
      "source": [
        "def order(a, b, c):\n",
        "    n = len(c)\n",
        "    for i in range(n):\n",
        "        if abs(c[i] - sum(a[i]))  > 10**(-12):\n",
        "            print(\"BAD\")\n",
        "            return\n",
        "    \n",
        "    if abs(sum(b) - 1) > 10**(-12):\n",
        "        print(\"BAD\")\n",
        "        return\n",
        "\n",
        "\n",
        "    if abs(scal_prod(b, c) - 0.5) > 10**(-12):\n",
        "        print(\"1 order\")\n",
        "        return\n",
        "    \n",
        "\n",
        "    if abs(sum([b[i]*c[i]*c[i] for i in range(n)]) - 1/3) > 10**(-12):\n",
        "        print(\"2 order\")\n",
        "        return\n",
        "    if abs(sum([b[i]*sum([a[i][j] * c[j] for j in range(n)]) for i in range(n)]) - 1/6) > 10**(-12):\n",
        "        print(\"2 order\")\n",
        "        return\n",
        "        \n",
        "\n",
        "    if abs(sum([b[i]*c[i]*c[i]*c[i] for i in range(n)]) - 1/4) > 10**(-12):\n",
        "        print(\"3 order\")\n",
        "        return\n",
        "    if abs(sum([b[i]*c[i]*sum([a[i][j] * c[j] for j in range(n)]) for i in range(n)]) - 1/8) > 10**(-12):\n",
        "        print(\"3 orderr\")\n",
        "        return\n",
        "    sm = 0\n",
        "    for i in range(n):\n",
        "        for j in range(n):\n",
        "            for k in range(n):\n",
        "                sm += b[i] * a[i][j] * a[j][k] * c[k]\n",
        "    if abs(sm - 1/24) > 10**(-12):\n",
        "        print(\"3 orderrr\", sm)\n",
        "        return\n",
        "    sm = 0\n",
        "    for i in range(n):\n",
        "        for j in range(n):\n",
        "                sm += b[i] * a[i][j] * c[j]**2\n",
        "    if abs(sm - 1/12) > 10**(-12):\n",
        "        print(\"3 orderrrr\", sm)\n",
        "        return\n",
        "    \n",
        "\n",
        "    print(\"min 4 order\")\n",
        "\n",
        "# check forth order table\n",
        "a = [\n",
        "     [0, 0, 0, 0],\n",
        "     [0.5, 0, 0, 0],\n",
        "     [0, 0.5, 0, 0],\n",
        "     [0, 0, 1, 0]\n",
        " ]\n",
        "b = [1/6, 1/3, 1/3, 1/6]\n",
        "c = [0, 0.5, 0.5, 1]\n",
        "\n",
        "order(a, b, c)\n"
      ]
    },
    {
      "cell_type": "markdown",
      "metadata": {},
      "source": [
        "Теперь сравним с порядком сходимости решения эксперементально.\n",
        "\n",
        "Количество шагов варьируется по двоичному логаримфу. (а конкретно шаги выбраны: 8, 16, 32, ..., $2^{17}$).\n",
        "\n",
        "Строится график -логаримфа ошибки от -логарифма длины шага.\n",
        "\n",
        "Как показало МКН наклон прямой очень близок к 4 (k = 3.998693675622254, см вывод кода), что совпадает с порядком аппроксимации, как и ожидалось."
      ]
    },
    {
      "cell_type": "code",
      "execution_count": 11,
      "metadata": {},
      "outputs": [
        {
          "data": {
            "image/png": "[encoded data removed]",
            "text/plain": [
              "<Figure size 432x288 with 1 Axes>"
            ]
          },
          "metadata": {
            "needs_background": "light"
          },
          "output_type": "display_data"
        },
        {
          "name": "stdout",
          "output_type": "stream",
          "text": [
            "Экспериментальный порядок: k = 3.998693675622254\n"
          ]
        }
      ],
      "source": [
        "m = 12 # Количество точек\n",
        "nums = [k + 3 for k in range(m)]\n",
        "pows = [2 ** nums[k] for k in range(m)]\n",
        "vals = [explicit_runge_kutt(a, b, c, pows[k], 0, T, start_val, func1) for k in range(m)]\n",
        "log_err = [-math.log2(max(abs(vals[k][0] - start_val[0]), abs(vals[k][1]))) for k in range(m)]\n",
        "# ошибка по бесконечность норме\n",
        "\n",
        "n = len(nums)\n",
        "k = (n * scal_prod(nums, log_err) - sum(nums) * sum(log_err)) / (n * scal_prod(nums, nums) - (sum(nums))**2)\n",
        "b_koef = (sum(log_err) - k * sum(nums)) / n\n",
        "line_val = [k * nums[i] + b_koef for i in range(len(nums))]\n",
        "plt.scatter(nums, log_err, color='red', label='Данные')  # Исходные точки\n",
        "plt.plot(nums, line_val)  # Прямая МНК\n",
        "\n",
        "plt.xlabel(\"-log h\")\n",
        "plt.ylabel(\"- log(err)\")\n",
        "plt.title(\"Сходимость\")\n",
        "\n",
        "# 4. Отображаем график\n",
        "plt.grid(True)  # Добавляем сетку\n",
        "plt.show()\n",
        "print(f\"Экспериментальный порядок: k = {k}\")"
      ]
    },
    {
      "cell_type": "markdown",
      "metadata": {},
      "source": [
        "# ***4)*** Построим фазовую диаграмму\n",
        "\n",
        "Теперь функция explicit_runge_kutt_animated(a, b, c, h, start, start_val, func) принимает на вход только начальный момент времени, помимо количества шагов (которое предполагается достаточно большим) - длину шага. Функция рассчитана на анимацию, однако в юпитере она отображается только статично. \n",
        "\n",
        "Для запуска и вывода анимации нужно ввести:\n",
        "animation_html = explicit_runge_kutt_animated(a, b, c, 100, 0.1, 0, start_val, func1)\n",
        "animation_html\n",
        "\n",
        "Также у данной функции есть недочет, что анимация устанавливает неправильные значения на оси (так складывается из-за того, что во время анимации оси выставляются по первому шагу и далее не меняются). Этот баг я пофиксить не смог.\n",
        "\n",
        "Как видно из графиков, что метод неустойчив. Для маленьких шагов это заметно только на больших числах, при шаге h = 1.5 метод выходит из периода уже примерно на 70ом-80ом шаге."
      ]
    },
    {
      "cell_type": "code",
      "execution_count": null,
      "metadata": {},
      "outputs": [
        {
          "name": "stdout",
          "output_type": "stream",
          "text": [
            "animation with pace: 0.1\n"
          ]
        },
        {
          "data": {
            "image/png": "[encoded data removed]",
            "text/plain": [
              "<Figure size 432x288 with 1 Axes>"
            ]
          },
          "metadata": {
            "needs_background": "light"
          },
          "output_type": "display_data"
        },
        {
          "name": "stdout",
          "output_type": "stream",
          "text": [
            "animation with pace: 2.5\n"
          ]
        },
        {
          "data": {
            "image/png": "[encoded data removed]",
            "text/plain": [
              "<Figure size 432x288 with 1 Axes>"
            ]
          },
          "metadata": {
            "needs_background": "light"
          },
          "output_type": "display_data"
        },
        {
          "name": "stdout",
          "output_type": "stream",
          "text": [
            "animation with pace: 4\n"
          ]
        },
        {
          "data": {
            "image/png": "[encoded data removed]",
            "text/plain": [
              "<Figure size 432x288 with 1 Axes>"
            ]
          },
          "metadata": {
            "needs_background": "light"
          },
          "output_type": "display_data"
        }
      ],
      "source": [
        "import matplotlib.animation as animation\n",
        "import time\n",
        "from IPython.display import HTML\n",
        "\n",
        "def explicit_runge_kutt_animated(a, b, c, n, h, start, start_val, func):\n",
        "    # print(\"pace is: \", h)\n",
        "    val = np.copy(start_val)\n",
        "    vals = [np.copy(val)]\n",
        "    t = start\n",
        "    for i in range(n):\n",
        "        val_mid = [val]\n",
        "        t_mid = [t]\n",
        "        for j in range(1, len(b)):\n",
        "            t_mid.append(t + c[j] * h)\n",
        "            val_mid.append(val + h * sum([a[j][k] * func(val_mid[k], t_mid) for k in range(j)]))\n",
        "        t += h\n",
        "        dif = [func(val_mid[k], t_mid[k]) for k in range(len(b))]\n",
        "        vals.append(np.copy(val))\n",
        "        val += h * scal_prod(b, dif)\n",
        "\n",
        "    def animate(frame):\n",
        "        if frame == 0:\n",
        "            x_side = max([abs(vals[i][0]) for i in range(len(vals))])\n",
        "            y_side = max([abs(vals[i][1]) for i in range(len(vals))])\n",
        "            ax.set_ylim(-y_side * 1,5, y_side * 1,5)\n",
        "            ax.set_xlim(-x_side * 1,5, x_side * 1,5)\n",
        "            line.set_ydata([-y_side, y_side])\n",
        "            line.set_xdata([-x_side, x_side])\n",
        "            return line,\n",
        "\n",
        "        x = np.array([vals[i][0] for i in range(frame + 2)])\n",
        "        y = np.array([vals[i][1] for i in range(frame + 2)])\n",
        "        line.set_ydata(y)\n",
        "        line.set_xdata(x)\n",
        "\n",
        "        # Меняем пределы осей (пример: подстраиваем под текущий максимум и минимум)\n",
        "        y_min = np.min(y)\n",
        "        y_max = np.max(y)\n",
        "        padding = 0.1 * (y_max - y_min)  # Небольшой отступ сверху и снизу\n",
        "        ax.set_ylim(y_min - padding, y_max + padding) #Установка пределов\n",
        "\n",
        "        x_min = np.min(x)\n",
        "        x_max = np.max(x)\n",
        "        padding = 0.1 * (x_max - x_min)  # Небольшой отступ сверху и снизу\n",
        "        ax.set_xlim(x_min - padding, x_max + padding) #Установка пределов\n",
        "\n",
        "        return line,  # Важно: возвращаем изменяемый объект (line,)\n",
        "\n",
        "    fig, ax = plt.subplots()\n",
        "    x_side = max([abs(vals[i][0]) for i in range(len(vals))])\n",
        "    y_side = max([abs(vals[i][1]) for i in range(len(vals))])\n",
        "    line, = ax.plot([-x_side, x_side], [-y_side, y_side])  # Инициализируем линию графика\n",
        "    ani = animation.FuncAnimation(fig, animate, frames=n, blit=True, repeat=False, interval=20)\n",
        "    HTML(ani.to_jshtml())\n",
        "    plt.show()\n",
        "\n",
        "pace = 0.1\n",
        "print(f\"animation with pace: {pace}\")\n",
        "animation_html = explicit_runge_kutt_animated(a, b, c, 100, pace, 0, start_val, func1)\n",
        "animation_html\n",
        "\n",
        "pace = 2.5\n",
        "print(f\"animation with pace: {pace}\")\n",
        "animation_html = explicit_runge_kutt_animated(a, b, c, 100, pace, 0, start_val, func1)\n",
        "animation_html\n",
        "\n",
        "pace = 4\n",
        "print(f\"animation with pace: {pace}\")\n",
        "animation_html = explicit_runge_kutt_animated(a, b, c, 200, pace, 0, start_val, func1)\n",
        "animation_html\n"
      ]
    }
  ],
  "metadata": {
    "colab": {
      "provenance": []
    },
    "kernelspec": {
      "display_name": "Python 3",
      "name": "python3"
    },
    "language_info": {
      "codemirror_mode": {
        "name": "ipython",
        "version": 3
      },
      "file_extension": ".py",
      "mimetype": "text/x-python",
      "name": "python",
      "nbconvert_exporter": "python",
      "pygments_lexer": "ipython3",
      "version": "3.10.12"
    }
  },
  "nbformat": 4,
  "nbformat_minor": 0
}
