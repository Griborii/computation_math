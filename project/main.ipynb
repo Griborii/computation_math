{
 "cells": [
  {
   "cell_type": "markdown",
   "id": "b82cbaf6",
   "metadata": {},
   "source": [
    "# ***Уравнения мелкой воды*** \n",
    "***Линейный одномерный случай***\n",
    "\n",
    "Реализовано МРК 4 по времени и метод трапеций по координате."
   ]
  }
 ],
 "metadata": {
  "language_info": {
   "name": "python"
  }
 },
 "nbformat": 4,
 "nbformat_minor": 5
}
